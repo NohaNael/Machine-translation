{
 "cells": [
  {
   "cell_type": "code",
   "execution_count": 2,
   "id": "7d3fe445",
   "metadata": {},
   "outputs": [
    {
     "name": "stdout",
     "output_type": "stream",
     "text": [
      "Requirement already satisfied: transformers in c:\\users\\dell\\appdata\\local\\programs\\python\\python311\\lib\\site-packages (4.35.2)\n",
      "Requirement already satisfied: filelock in c:\\users\\dell\\appdata\\local\\programs\\python\\python311\\lib\\site-packages (from transformers) (3.13.1)\n",
      "Requirement already satisfied: huggingface-hub<1.0,>=0.16.4 in c:\\users\\dell\\appdata\\local\\programs\\python\\python311\\lib\\site-packages (from transformers) (0.19.4)\n",
      "Requirement already satisfied: numpy>=1.17 in c:\\users\\dell\\appdata\\local\\programs\\python\\python311\\lib\\site-packages (from transformers) (1.23.5)\n",
      "Requirement already satisfied: packaging>=20.0 in c:\\users\\dell\\appdata\\local\\programs\\python\\python311\\lib\\site-packages (from transformers) (23.0)\n",
      "Requirement already satisfied: pyyaml>=5.1 in c:\\users\\dell\\appdata\\local\\programs\\python\\python311\\lib\\site-packages (from transformers) (6.0)\n",
      "Requirement already satisfied: regex!=2019.12.17 in c:\\users\\dell\\appdata\\local\\programs\\python\\python311\\lib\\site-packages (from transformers) (2023.10.3)\n",
      "Requirement already satisfied: requests in c:\\users\\dell\\appdata\\local\\programs\\python\\python311\\lib\\site-packages (from transformers) (2.30.0)\n",
      "Requirement already satisfied: tokenizers<0.19,>=0.14 in c:\\users\\dell\\appdata\\local\\programs\\python\\python311\\lib\\site-packages (from transformers) (0.15.0)\n",
      "Requirement already satisfied: safetensors>=0.3.1 in c:\\users\\dell\\appdata\\local\\programs\\python\\python311\\lib\\site-packages (from transformers) (0.4.1)\n",
      "Requirement already satisfied: tqdm>=4.27 in c:\\users\\dell\\appdata\\local\\programs\\python\\python311\\lib\\site-packages (from transformers) (4.66.1)\n",
      "Requirement already satisfied: fsspec>=2023.5.0 in c:\\users\\dell\\appdata\\local\\programs\\python\\python311\\lib\\site-packages (from huggingface-hub<1.0,>=0.16.4->transformers) (2023.10.0)\n",
      "Requirement already satisfied: typing-extensions>=3.7.4.3 in c:\\users\\dell\\appdata\\local\\programs\\python\\python311\\lib\\site-packages (from huggingface-hub<1.0,>=0.16.4->transformers) (4.5.0)\n",
      "Requirement already satisfied: colorama in c:\\users\\dell\\appdata\\local\\programs\\python\\python311\\lib\\site-packages (from tqdm>=4.27->transformers) (0.4.6)\n",
      "Requirement already satisfied: charset-normalizer<4,>=2 in c:\\users\\dell\\appdata\\local\\programs\\python\\python311\\lib\\site-packages (from requests->transformers) (3.1.0)\n",
      "Requirement already satisfied: idna<4,>=2.5 in c:\\users\\dell\\appdata\\local\\programs\\python\\python311\\lib\\site-packages (from requests->transformers) (3.4)\n",
      "Requirement already satisfied: urllib3<3,>=1.21.1 in c:\\users\\dell\\appdata\\local\\programs\\python\\python311\\lib\\site-packages (from requests->transformers) (1.26.15)\n",
      "Requirement already satisfied: certifi>=2017.4.17 in c:\\users\\dell\\appdata\\local\\programs\\python\\python311\\lib\\site-packages (from requests->transformers) (2023.5.7)\n",
      "Note: you may need to restart the kernel to use updated packages.\n"
     ]
    },
    {
     "name": "stderr",
     "output_type": "stream",
     "text": [
      "\n",
      "[notice] A new release of pip is available: 23.3.1 -> 23.3.2\n",
      "[notice] To update, run: python.exe -m pip install --upgrade pip\n"
     ]
    }
   ],
   "source": [
    "pip install transformers"
   ]
  },
  {
   "cell_type": "code",
   "execution_count": 3,
   "id": "a1771012",
   "metadata": {},
   "outputs": [
    {
     "name": "stderr",
     "output_type": "stream",
     "text": [
      "C:\\Users\\dell\\AppData\\Local\\Programs\\Python\\Python311\\Lib\\site-packages\\transformers\\tokenization_utils_base.py:3982: FutureWarning: \n",
      "`prepare_seq2seq_batch` is deprecated and will be removed in version 5 of HuggingFace Transformers. Use the regular\n",
      "`__call__` method to prepare your inputs and targets.\n",
      "\n",
      "Here is a short example:\n",
      "\n",
      "model_inputs = tokenizer(src_texts, text_target=tgt_texts, ...)\n",
      "\n",
      "If you either need to use different keyword arguments for the source and target texts, you should do two calls like\n",
      "this:\n",
      "\n",
      "model_inputs = tokenizer(src_texts, ...)\n",
      "labels = tokenizer(text_target=tgt_texts, ...)\n",
      "model_inputs[\"labels\"] = labels[\"input_ids\"]\n",
      "\n",
      "See the documentation of your specific tokenizer for more details on the specific arguments to the tokenizer of choice.\n",
      "For a more complete example, see the implementation of `prepare_seq2seq_batch`.\n",
      "\n",
      "  warnings.warn(formatted_warning, FutureWarning)\n"
     ]
    }
   ],
   "source": [
    "import tkinter as tk\n",
    "from transformers import MarianMTModel, MarianTokenizer\n",
    "\n",
    "def translate_text():\n",
    "    source_language = source_language_var.get()  #fetch the source and target languages selected by the user from  GUI input \n",
    "    target_language = target_language_var.get()\n",
    "    \n",
    "    model_name = f'Helsinki-NLP/opus-mt-{source_language}-{target_language}'  #Constructs the model name based on the source and target languages.\n",
    "    tokenizer = MarianTokenizer.from_pretrained(model_name)   #nitializes the tokenizer specific to the selected translation model.\n",
    "    model = MarianMTModel.from_pretrained(model_name)    #Initializes the machine translation model using the specified model name.\n",
    "    \n",
    "    text_to_translate = input_text.get(\"1.0\", \"end-1c\")  # Get text from input field\n",
    "    inputs = tokenizer.prepare_seq2seq_batch(src_texts=[text_to_translate], return_tensors=\"pt\")  #Prepares the input sequence to be fed into the model. It tokenizes and encodes the input text using the tokenizer.\n",
    "    translated = model.generate(**inputs)   #Generates the translation based on the provided input. The generate method uses the model to predict the translated output.\n",
    "    translated_text = tokenizer.decode(translated[0], skip_special_tokens=True)  #Decodes the translated output tokens into human-readable text\n",
    "    output_text.delete(\"1.0\", \"end\")  # Clear previous output\n",
    "    output_text.insert(\"1.0\", translated_text)  # Display translated text\n",
    "\n",
    "# Create GUI\n",
    "root = tk.Tk()\n",
    "root.title(\"Multilingual Text Translator\")\n",
    "\n",
    "languages = ['en', 'fr', 'de','es','it']  # Add more language codes as needed\n",
    "source_language_var = tk.StringVar(root)\n",
    "source_language_var.set(languages[0])  # Set default source language\n",
    "target_language_var = tk.StringVar(root)\n",
    "target_language_var.set(languages[1])  # Set default target language\n",
    "\n",
    "source_language_label = tk.Label(root, text=\"Source Language:\")\n",
    "source_language_label.pack()\n",
    "source_language_menu = tk.OptionMenu(root, source_language_var, *languages)\n",
    "source_language_menu.pack()\n",
    "\n",
    "target_language_label = tk.Label(root, text=\"Target Language:\")\n",
    "target_language_label.pack()\n",
    "target_language_menu = tk.OptionMenu(root, target_language_var, *languages)\n",
    "target_language_menu.pack()\n",
    "\n",
    "input_label = tk.Label(root, text=\"Enter text to translate:\")\n",
    "input_label.pack()\n",
    "\n",
    "input_text = tk.Text(root, height=5, width=50)\n",
    "input_text.pack()\n",
    "\n",
    "translate_button = tk.Button(root, text=\"Translate\", command=translate_text)\n",
    "translate_button.pack()\n",
    "\n",
    "output_label = tk.Label(root, text=\"Translated text:\")\n",
    "output_label.pack()\n",
    "\n",
    "output_text = tk.Text(root, height=5, width=50)\n",
    "output_text.pack()\n",
    "\n",
    "root.mainloop()\n"
   ]
  },
  {
   "cell_type": "code",
   "execution_count": null,
   "id": "cfbdfaac",
   "metadata": {},
   "outputs": [],
   "source": []
  }
 ],
 "metadata": {
  "kernelspec": {
   "display_name": "Python 3 (ipykernel)",
   "language": "python",
   "name": "python3"
  },
  "language_info": {
   "codemirror_mode": {
    "name": "ipython",
    "version": 3
   },
   "file_extension": ".py",
   "mimetype": "text/x-python",
   "name": "python",
   "nbconvert_exporter": "python",
   "pygments_lexer": "ipython3",
   "version": "3.11.1"
  }
 },
 "nbformat": 4,
 "nbformat_minor": 5
}
